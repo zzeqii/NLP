{
 "cells": [
  {
   "cell_type": "markdown",
   "metadata": {
    "colab_type": "text",
    "id": "3-tNXEbFOf-g"
   },
   "source": [
    "# Lab 01"
   ]
  },
  {
   "cell_type": "markdown",
   "metadata": {
    "colab_type": "text",
    "id": "6Vmb3ZK5SOhz"
   },
   "source": [
    "# Tensorflow"
   ]
  },
  {
   "cell_type": "markdown",
   "metadata": {
    "colab_type": "text",
    "id": "9jJgT_lITGdG"
   },
   "source": [
    "[Tensorflow](https://www.tensorflow.org/) is a computational framework for building machine learning models. \n",
    "\n",
    "Before we use Tensorflow it is (obviously) neccessary to understand what Tensorflow is.\n",
    "\n",
    "**Tensorflow = [Tensor](https://www.tensorflow.org/guide/tensors) + [Flow](https://www.tensorflow.org/guide/graphs)**(will learn more about this later)\n",
    "\n",
    "## Tensor\n",
    "A [tensor](https://www.tensorflow.org/guide/tensors) is a generalization of vectors and matrices to potentially higher dimensions.\n",
    "\n",
    "A [tf.Tensor](https://www.tensorflow.org/api_docs/python/tf/Tensor) has the following properties : (<https://www.tensorflow.org/guide/tensors>)\n",
    "*   a data type (float32, int32, or string, for example)\n",
    "*   a shape\n",
    "\n",
    "\n",
    "\n",
    "![Tensor_Rank](https://drive.google.com/uc?id=1o5wulLHGxUuPxH3t3xfV8U7d2CrsL1oG)\n",
    "\n",
    "\n",
    "\n"
   ]
  },
  {
   "cell_type": "markdown",
   "metadata": {
    "colab_type": "text",
    "id": "xWQxFb_W8flk"
   },
   "source": [
    "### Importing tensorflow library\n",
    "[Google Colab](https://colab.research.google.com/notebooks/welcome.ipynb) has tensorflow library installed as default so you just need to import it as below:"
   ]
  },
  {
   "cell_type": "code",
   "execution_count": 0,
   "metadata": {
    "colab": {},
    "colab_type": "code",
    "id": "ksP6PBngSSTH"
   },
   "outputs": [],
   "source": [
    "import tensorflow as tf"
   ]
  },
  {
   "cell_type": "markdown",
   "metadata": {
    "colab_type": "text",
    "id": "XPp2MGCe1apL"
   },
   "source": [
    "## Constant\n",
    "WIth Tensorflow, we will be implementing lots of models. [Constant](https://www.tensorflow.org/api_docs/python/tf/constant) is a typical value that we need to set for the model. Any dimensional tensors can be declared."
   ]
  },
  {
   "cell_type": "code",
   "execution_count": 0,
   "metadata": {
    "colab": {
     "base_uri": "https://localhost:8080/",
     "height": 102
    },
    "colab_type": "code",
    "id": "TaDqOxzhSUmf",
    "outputId": "4c66eeab-582c-4a58-c5c5-3be3b64ce20d"
   },
   "outputs": [
    {
     "name": "stdout",
     "output_type": "stream",
     "text": [
      "0  :  []\n",
      "1  :  [4]\n",
      "2  :  [4 4]\n",
      "3  :  [4 4 4]\n",
      "4  :  [4 4 4 4]\n"
     ]
    }
   ],
   "source": [
    "\n",
    "with tf.Session() as sess:\n",
    "  # Scalar (0 Rank)\n",
    "  x0 = tf.constant(2.1)\n",
    "  print (tf.rank(x0).eval(), \" : \",  tf.shape(x0).eval())\n",
    "#   print (tf.get_default_session().run(tf.rank(x0)), \" : \",  tf.get_default_session().run(tf.shape(x0)))\n",
    "  \n",
    "\n",
    "  # Vector (1 Rank)\n",
    "  x1 = tf.constant([-1.3, 4.22, 8.0, 9.3])\n",
    "  print (tf.rank(x1).eval(), \" : \",  tf.shape(x1).eval())\n",
    "\n",
    "\n",
    "  # Matrix (2 Rank)\n",
    "  x2 = tf.constant([[-1.3, 4.22, 8.0, 9.3],\n",
    "                  [-4.3, 0.12, 37.0, 14.3],\n",
    "                  [2.3, 5.4, 28.0, 22.4],\n",
    "                  [9.3, -6.2, 88.2, 31.8]])\n",
    "  print (tf.rank(x2).eval(), \" : \",  tf.shape(x2).eval())\n",
    "\n",
    "\n",
    "  # Cube (3 Rank)\n",
    "  x3 = tf.stack([x2,x2,x2,x2])\n",
    "  print (tf.rank(x3).eval(), \" : \",  tf.shape(x3).eval())\n",
    "\n",
    "\n",
    "  # Vector of cubes (4 Rank)\n",
    "  x4 = tf.stack([x3,x3,x3,x3])\n",
    "  print (tf.rank(x4).eval(), \" : \",  tf.shape(x4).eval())\n",
    "\n",
    "\n",
    "  # and so on..."
   ]
  },
  {
   "cell_type": "markdown",
   "metadata": {
    "colab_type": "text",
    "id": "rKz1UOFEHYVr"
   },
   "source": [
    "More info: [stack()](https://www.tensorflow.org/api_docs/python/tf/stack), [rank()](https://www.tensorflow.org/api_docs/python/tf/rank), [shape()](https://www.tensorflow.org/api_docs/python/tf/shape), eval(x0) is a shorcut of tf.get_default_session().run(x0)"
   ]
  },
  {
   "cell_type": "markdown",
   "metadata": {
    "colab_type": "text",
    "id": "3ePn-3UfyZd3"
   },
   "source": [
    "## Variable\n",
    "[Variable](https://www.tensorflow.org/api_docs/python/tf/Variable) will be changed as the TensorFlow program runs. \n",
    "\n",
    "Why Variable is *Capitalised* (whereas constant is not)?\n",
    "\n",
    "*   Variable is a class that contains many operations\n",
    "*   constant is an operation\n",
    "\n"
   ]
  },
  {
   "cell_type": "code",
   "execution_count": 0,
   "metadata": {
    "colab": {
     "base_uri": "https://localhost:8080/",
     "height": 224
    },
    "colab_type": "code",
    "id": "XGZlwEd_ygnJ",
    "outputId": "feed6274-73b7-46e0-8d85-3cf1831b63f1"
   },
   "outputs": [
    {
     "name": "stdout",
     "output_type": "stream",
     "text": [
      "WARNING:tensorflow:From /usr/local/lib/python3.6/dist-packages/tensorflow/python/framework/op_def_library.py:263: colocate_with (from tensorflow.python.framework.ops) is deprecated and will be removed in a future version.\n",
      "Instructions for updating:\n",
      "Colocations handled automatically by placer.\n",
      "W1 : \n",
      "[[1. 1. 1.]\n",
      " [1. 1. 1.]\n",
      " [1. 1. 1.]]\n",
      "W2 : \n",
      "[[0. 0. 0.]\n",
      " [0. 0. 0.]\n",
      " [0. 0. 0.]]\n"
     ]
    }
   ],
   "source": [
    "# Variable \n",
    "W1 = tf.ones((3,3))\n",
    "W2 = tf.Variable(tf.zeros((3,3)), name=\"weights\")  \n",
    "\n",
    "with tf.Session() as sess:   \n",
    "  \n",
    "  print(\"W1 : \")\n",
    "  print(sess.run(W1))   \n",
    "  sess.run(tf.global_variables_initializer())   \n",
    "  \n",
    "  print(\"W2 : \")\n",
    "  print(sess.run(W2))\n"
   ]
  },
  {
   "cell_type": "markdown",
   "metadata": {
    "colab_type": "text",
    "id": "BxkEiUGsMN2k"
   },
   "source": [
    "More info: [zeros()](https://www.tensorflow.org/api_docs/python/tf/zeros) \n"
   ]
  },
  {
   "cell_type": "markdown",
   "metadata": {
    "colab_type": "text",
    "id": "EGvmC7YFzcUQ"
   },
   "source": [
    "### tf.Variable() vs tf.get_variable()\n",
    "\n",
    "[Tensorflow Guide](https://www.tensorflow.org/guide/variables) suggests to create a variable using tf.get_variable(). It reuses a previously created variable of the same name, making it easy to define models which reuse layers.\n",
    "\n",
    "*   tf.Variable() will always create a new variable whereas \n",
    "*   tf.get_variable() will check the variable with the given parameters exists. If not, new variable will be created.\n",
    "\n"
   ]
  },
  {
   "cell_type": "code",
   "execution_count": 0,
   "metadata": {
    "colab": {
     "base_uri": "https://localhost:8080/",
     "height": 34
    },
    "colab_type": "code",
    "id": "rzkONhl61k2q",
    "outputId": "a26ef287-2df4-4019-969a-2d5908d1743d"
   },
   "outputs": [
    {
     "name": "stdout",
     "output_type": "stream",
     "text": [
      "<tf.Variable 'variable1_2:0' shape=(3, 3) dtype=float32_ref>\n"
     ]
    }
   ],
   "source": [
    "var1 = tf.Variable(tf.zeros((3,3)), name=\"variable1\")  \n",
    "print(var1)\n",
    "#You can see the name of the variable will be changed if you run the code again.\n",
    "# variable1, variable1_1, variable1_2, ...\n"
   ]
  },
  {
   "cell_type": "code",
   "execution_count": 0,
   "metadata": {
    "colab": {
     "base_uri": "https://localhost:8080/",
     "height": 966
    },
    "colab_type": "code",
    "id": "05XupxRI1k9H",
    "outputId": "ca10616a-4a65-461d-89ca-253e1e095531"
   },
   "outputs": [
    {
     "ename": "ValueError",
     "evalue": "ignored",
     "output_type": "error",
     "traceback": [
      "\u001b[0;31m---------------------------------------------------------------------------\u001b[0m",
      "\u001b[0;31mValueError\u001b[0m                                Traceback (most recent call last)",
      "\u001b[0;32m<ipython-input-11-4981972de32b>\u001b[0m in \u001b[0;36m<module>\u001b[0;34m()\u001b[0m\n\u001b[1;32m      1\u001b[0m \u001b[0;34m\u001b[0m\u001b[0m\n\u001b[0;32m----> 2\u001b[0;31m \u001b[0mvar2\u001b[0m \u001b[0;34m=\u001b[0m \u001b[0mtf\u001b[0m\u001b[0;34m.\u001b[0m\u001b[0mget_variable\u001b[0m\u001b[0;34m(\u001b[0m\u001b[0;34m\"variable2\"\u001b[0m\u001b[0;34m,\u001b[0m \u001b[0minitializer\u001b[0m\u001b[0;34m=\u001b[0m\u001b[0mtf\u001b[0m\u001b[0;34m.\u001b[0m\u001b[0mzeros\u001b[0m\u001b[0;34m(\u001b[0m\u001b[0;34m(\u001b[0m\u001b[0;36m3\u001b[0m\u001b[0;34m,\u001b[0m\u001b[0;36m3\u001b[0m\u001b[0;34m)\u001b[0m\u001b[0;34m)\u001b[0m\u001b[0;34m)\u001b[0m\u001b[0;34m\u001b[0m\u001b[0;34m\u001b[0m\u001b[0m\n\u001b[0m\u001b[1;32m      3\u001b[0m \u001b[0mprint\u001b[0m\u001b[0;34m(\u001b[0m\u001b[0mvar2\u001b[0m\u001b[0;34m)\u001b[0m\u001b[0;34m\u001b[0m\u001b[0;34m\u001b[0m\u001b[0m\n\u001b[1;32m      4\u001b[0m \u001b[0;31m#You will get an error if you run this bit of codes more than once. The \"variable2\" was created so it cannot be created again.\u001b[0m\u001b[0;34m\u001b[0m\u001b[0;34m\u001b[0m\u001b[0;34m\u001b[0m\u001b[0m\n\u001b[1;32m      5\u001b[0m \u001b[0;34m\u001b[0m\u001b[0m\n",
      "\u001b[0;32m/usr/local/lib/python3.6/dist-packages/tensorflow/python/ops/variable_scope.py\u001b[0m in \u001b[0;36mget_variable\u001b[0;34m(name, shape, dtype, initializer, regularizer, trainable, collections, caching_device, partitioner, validate_shape, use_resource, custom_getter, constraint, synchronization, aggregation)\u001b[0m\n\u001b[1;32m   1477\u001b[0m       \u001b[0mconstraint\u001b[0m\u001b[0;34m=\u001b[0m\u001b[0mconstraint\u001b[0m\u001b[0;34m,\u001b[0m\u001b[0;34m\u001b[0m\u001b[0;34m\u001b[0m\u001b[0m\n\u001b[1;32m   1478\u001b[0m       \u001b[0msynchronization\u001b[0m\u001b[0;34m=\u001b[0m\u001b[0msynchronization\u001b[0m\u001b[0;34m,\u001b[0m\u001b[0;34m\u001b[0m\u001b[0;34m\u001b[0m\u001b[0m\n\u001b[0;32m-> 1479\u001b[0;31m       aggregation=aggregation)\n\u001b[0m\u001b[1;32m   1480\u001b[0m \u001b[0;34m\u001b[0m\u001b[0m\n\u001b[1;32m   1481\u001b[0m \u001b[0;34m\u001b[0m\u001b[0m\n",
      "\u001b[0;32m/usr/local/lib/python3.6/dist-packages/tensorflow/python/ops/variable_scope.py\u001b[0m in \u001b[0;36mget_variable\u001b[0;34m(self, var_store, name, shape, dtype, initializer, regularizer, reuse, trainable, collections, caching_device, partitioner, validate_shape, use_resource, custom_getter, constraint, synchronization, aggregation)\u001b[0m\n\u001b[1;32m   1218\u001b[0m           \u001b[0mconstraint\u001b[0m\u001b[0;34m=\u001b[0m\u001b[0mconstraint\u001b[0m\u001b[0;34m,\u001b[0m\u001b[0;34m\u001b[0m\u001b[0;34m\u001b[0m\u001b[0m\n\u001b[1;32m   1219\u001b[0m           \u001b[0msynchronization\u001b[0m\u001b[0;34m=\u001b[0m\u001b[0msynchronization\u001b[0m\u001b[0;34m,\u001b[0m\u001b[0;34m\u001b[0m\u001b[0;34m\u001b[0m\u001b[0m\n\u001b[0;32m-> 1220\u001b[0;31m           aggregation=aggregation)\n\u001b[0m\u001b[1;32m   1221\u001b[0m \u001b[0;34m\u001b[0m\u001b[0m\n\u001b[1;32m   1222\u001b[0m   def _get_partitioned_variable(self,\n",
      "\u001b[0;32m/usr/local/lib/python3.6/dist-packages/tensorflow/python/ops/variable_scope.py\u001b[0m in \u001b[0;36mget_variable\u001b[0;34m(self, name, shape, dtype, initializer, regularizer, reuse, trainable, collections, caching_device, partitioner, validate_shape, use_resource, custom_getter, constraint, synchronization, aggregation)\u001b[0m\n\u001b[1;32m    545\u001b[0m           \u001b[0mconstraint\u001b[0m\u001b[0;34m=\u001b[0m\u001b[0mconstraint\u001b[0m\u001b[0;34m,\u001b[0m\u001b[0;34m\u001b[0m\u001b[0;34m\u001b[0m\u001b[0m\n\u001b[1;32m    546\u001b[0m           \u001b[0msynchronization\u001b[0m\u001b[0;34m=\u001b[0m\u001b[0msynchronization\u001b[0m\u001b[0;34m,\u001b[0m\u001b[0;34m\u001b[0m\u001b[0;34m\u001b[0m\u001b[0m\n\u001b[0;32m--> 547\u001b[0;31m           aggregation=aggregation)\n\u001b[0m\u001b[1;32m    548\u001b[0m \u001b[0;34m\u001b[0m\u001b[0m\n\u001b[1;32m    549\u001b[0m   def _get_partitioned_variable(self,\n",
      "\u001b[0;32m/usr/local/lib/python3.6/dist-packages/tensorflow/python/ops/variable_scope.py\u001b[0m in \u001b[0;36m_true_getter\u001b[0;34m(name, shape, dtype, initializer, regularizer, reuse, trainable, collections, caching_device, partitioner, validate_shape, use_resource, constraint, synchronization, aggregation)\u001b[0m\n\u001b[1;32m    497\u001b[0m           \u001b[0mconstraint\u001b[0m\u001b[0;34m=\u001b[0m\u001b[0mconstraint\u001b[0m\u001b[0;34m,\u001b[0m\u001b[0;34m\u001b[0m\u001b[0;34m\u001b[0m\u001b[0m\n\u001b[1;32m    498\u001b[0m           \u001b[0msynchronization\u001b[0m\u001b[0;34m=\u001b[0m\u001b[0msynchronization\u001b[0m\u001b[0;34m,\u001b[0m\u001b[0;34m\u001b[0m\u001b[0;34m\u001b[0m\u001b[0m\n\u001b[0;32m--> 499\u001b[0;31m           aggregation=aggregation)\n\u001b[0m\u001b[1;32m    500\u001b[0m \u001b[0;34m\u001b[0m\u001b[0m\n\u001b[1;32m    501\u001b[0m     \u001b[0;31m# Set trainable value based on synchronization value.\u001b[0m\u001b[0;34m\u001b[0m\u001b[0;34m\u001b[0m\u001b[0;34m\u001b[0m\u001b[0m\n",
      "\u001b[0;32m/usr/local/lib/python3.6/dist-packages/tensorflow/python/ops/variable_scope.py\u001b[0m in \u001b[0;36m_get_single_variable\u001b[0;34m(self, name, shape, dtype, initializer, regularizer, partition_info, reuse, trainable, collections, caching_device, validate_shape, use_resource, constraint, synchronization, aggregation)\u001b[0m\n\u001b[1;32m    846\u001b[0m         \u001b[0mtb\u001b[0m \u001b[0;34m=\u001b[0m \u001b[0;34m[\u001b[0m\u001b[0mx\u001b[0m \u001b[0;32mfor\u001b[0m \u001b[0mx\u001b[0m \u001b[0;32min\u001b[0m \u001b[0mtb\u001b[0m \u001b[0;32mif\u001b[0m \u001b[0;34m\"tensorflow/python\"\u001b[0m \u001b[0;32mnot\u001b[0m \u001b[0;32min\u001b[0m \u001b[0mx\u001b[0m\u001b[0;34m[\u001b[0m\u001b[0;36m0\u001b[0m\u001b[0;34m]\u001b[0m\u001b[0;34m]\u001b[0m\u001b[0;34m[\u001b[0m\u001b[0;34m:\u001b[0m\u001b[0;36m3\u001b[0m\u001b[0;34m]\u001b[0m\u001b[0;34m\u001b[0m\u001b[0;34m\u001b[0m\u001b[0m\n\u001b[1;32m    847\u001b[0m         raise ValueError(\"%s Originally defined at:\\n\\n%s\" % (err_msg, \"\".join(\n\u001b[0;32m--> 848\u001b[0;31m             traceback.format_list(tb))))\n\u001b[0m\u001b[1;32m    849\u001b[0m       \u001b[0mfound_var\u001b[0m \u001b[0;34m=\u001b[0m \u001b[0mself\u001b[0m\u001b[0;34m.\u001b[0m\u001b[0m_vars\u001b[0m\u001b[0;34m[\u001b[0m\u001b[0mname\u001b[0m\u001b[0;34m]\u001b[0m\u001b[0;34m\u001b[0m\u001b[0;34m\u001b[0m\u001b[0m\n\u001b[1;32m    850\u001b[0m       \u001b[0;32mif\u001b[0m \u001b[0;32mnot\u001b[0m \u001b[0mshape\u001b[0m\u001b[0;34m.\u001b[0m\u001b[0mis_compatible_with\u001b[0m\u001b[0;34m(\u001b[0m\u001b[0mfound_var\u001b[0m\u001b[0;34m.\u001b[0m\u001b[0mget_shape\u001b[0m\u001b[0;34m(\u001b[0m\u001b[0;34m)\u001b[0m\u001b[0;34m)\u001b[0m\u001b[0;34m:\u001b[0m\u001b[0;34m\u001b[0m\u001b[0;34m\u001b[0m\u001b[0m\n",
      "\u001b[0;31mValueError\u001b[0m: Variable variable2 already exists, disallowed. Did you mean to set reuse=True or reuse=tf.AUTO_REUSE in VarScope? Originally defined at:\n\n  File \"<ipython-input-5-4981972de32b>\", line 2, in <module>\n    var2 = tf.get_variable(\"variable2\", initializer=tf.zeros((3,3)))\n  File \"/usr/local/lib/python3.6/dist-packages/IPython/core/interactiveshell.py\", line 2882, in run_code\n    exec(code_obj, self.user_global_ns, self.user_ns)\n  File \"/usr/local/lib/python3.6/dist-packages/IPython/core/interactiveshell.py\", line 2822, in run_ast_nodes\n    if self.run_code(code, result):\n"
     ]
    }
   ],
   "source": [
    "####\n",
    "\n",
    "####\n",
    "\n",
    "var2 = tf.get_variable(\"variable2\", initializer=tf.zeros((3,3))) \n",
    "print(var2) \n",
    "#You will get an error if you run this bit of codes more than once. The \"variable2\" was created so it cannot be created again.\n",
    "\n",
    "#To prevent this error, you could add the following line before calling get_variable(). \n",
    "# tf.reset_default_graph()"
   ]
  },
  {
   "cell_type": "markdown",
   "metadata": {
    "colab_type": "text",
    "id": "rhZ79BUqybVh"
   },
   "source": [
    "## Session\n",
    "**[Session](https://www.tensorflow.org/api_docs/python/tf/Session)** encapsulates the state of the environment in which Operation objects are executed, and Tensor objects are evaluated. Before the actual operation is executed with the Session, the tensor with operation is just an object that contains object that you encapsulated. Once you run it with the session, you can get the actual output that you want to get."
   ]
  },
  {
   "cell_type": "code",
   "execution_count": 0,
   "metadata": {
    "colab": {
     "base_uri": "https://localhost:8080/",
     "height": 34
    },
    "colab_type": "code",
    "id": "MqFAfzK3T33Q",
    "outputId": "b5d8a652-942e-43ff-f970-6a0dfc37866f"
   },
   "outputs": [
    {
     "name": "stdout",
     "output_type": "stream",
     "text": [
      "Tensor(\"Add_2:0\", shape=(), dtype=int32)\n"
     ]
    }
   ],
   "source": [
    "# Without Session\n",
    "a = 1\n",
    "b = 2\n",
    "c = tf.add(a,b)\n",
    "\n",
    "print(c)"
   ]
  },
  {
   "cell_type": "code",
   "execution_count": 0,
   "metadata": {
    "colab": {
     "base_uri": "https://localhost:8080/",
     "height": 34
    },
    "colab_type": "code",
    "id": "MckBuCeApf5U",
    "outputId": "3ea30e1f-751c-4b23-f41b-143455938646"
   },
   "outputs": [
    {
     "name": "stdout",
     "output_type": "stream",
     "text": [
      "3\n"
     ]
    }
   ],
   "source": [
    "# With Session\n",
    "a = 1\n",
    "b = 2\n",
    "c = tf.add(a,b)\n",
    "\n",
    "with tf.Session() as sess:\n",
    "  print(sess.run(c))\n",
    "  \n",
    "sess.close()"
   ]
  },
  {
   "cell_type": "markdown",
   "metadata": {
    "colab_type": "text",
    "id": "9pHGvRy4yoMZ"
   },
   "source": [
    "## Placeholder\n",
    "[Placeholder](https://www.tensorflow.org/api_docs/python/tf/placeholder) is a variable that can be assigned later (in the runtime). This means it does not have to contain initial value for the operation. We can assign the value with \"feed_dict\" argument inside [Session.run()](https://www.tensorflow.org/api_docs/python/tf/Session#run)\n",
    "\n"
   ]
  },
  {
   "cell_type": "code",
   "execution_count": 0,
   "metadata": {
    "colab": {
     "base_uri": "https://localhost:8080/",
     "height": 34
    },
    "colab_type": "code",
    "id": "SPXcpTwyyp_n",
    "outputId": "a8bcb05a-6a4f-415a-f528-7cbfa62ab22f"
   },
   "outputs": [
    {
     "name": "stdout",
     "output_type": "stream",
     "text": [
      "[11.5 27.5 40.  59.5 65. ]\n"
     ]
    }
   ],
   "source": [
    "# a list values for placeholder x\n",
    "input1 = [1.0, 2.5, 3.0, 4.5, 5.0]\n",
    "input2 = [1.5, 2.5, 10.0, 14.5, 15.0]\n",
    "\n",
    "# placeholder x with datatype float32\n",
    "x = tf.placeholder(dtype=tf.float32)\n",
    "b = tf.placeholder(dtype=tf.float32)\n",
    "y = 10 * x + b\n",
    "\n",
    "with tf.Session() as sess:\n",
    "  print (sess.run(y, feed_dict={x: input1, b: input2}))\n"
   ]
  },
  {
   "cell_type": "markdown",
   "metadata": {
    "colab_type": "text",
    "id": "IE91VTvN_YVB"
   },
   "source": [
    "## Linear Regression\n",
    "\n",
    "![Linear_Regression](https://upload.wikimedia.org/wikipedia/commons/thumb/3/3a/Linear_regression.svg/320px-Linear_regression.svg.png)\n",
    "\n",
    "The following code implements a simple linear regression algorithm."
   ]
  },
  {
   "cell_type": "code",
   "execution_count": 0,
   "metadata": {
    "colab": {
     "base_uri": "https://localhost:8080/",
     "height": 1241
    },
    "colab_type": "code",
    "id": "D6VTiDjoQBt-",
    "outputId": "63dd4048-5acb-486e-8d1b-05ab84dd64eb"
   },
   "outputs": [
    {
     "name": "stdout",
     "output_type": "stream",
     "text": [
      "WARNING:tensorflow:From /usr/local/lib/python3.6/dist-packages/tensorflow/python/ops/math_ops.py:3066: to_int32 (from tensorflow.python.ops.math_ops) is deprecated and will be removed in a future version.\n",
      "Instructions for updating:\n",
      "Use tf.cast instead.\n",
      "Epoch: 0000 cost= 44186056.00000000 W= 2281.5491 b= 157.9507\n",
      "Epoch: 0200 cost= 196648.57812500 W= 1532.3192 b= -94.0017\n",
      "Epoch: 0400 cost= 189563.76562500 W= 1540.5857 b= -211.4949\n",
      "Epoch: 0600 cost= 187075.53125000 W= 1545.4846 b= -281.1247\n",
      "Epoch: 0800 cost= 186201.54687500 W= 1548.3878 b= -322.3895\n",
      "Epoch: 1000 cost= 185894.60937500 W= 1550.1085 b= -346.8443\n",
      "Epoch: 1200 cost= 185786.85937500 W= 1551.1281 b= -361.3368\n",
      "Epoch: 1400 cost= 185749.17187500 W= 1551.7324 b= -369.9257\n",
      "Epoch: 1600 cost= 185735.90625000 W= 1552.0905 b= -375.0157\n",
      "Epoch: 1800 cost= 185731.03125000 W= 1552.3029 b= -378.0322\n",
      "Epoch: 2000 cost= 185729.60937500 W= 1552.4285 b= -379.8200\n",
      "Epoch: 2200 cost= 185729.03125000 W= 1552.5029 b= -380.8793\n",
      "Epoch: 2400 cost= 185728.82812500 W= 1552.5471 b= -381.5070\n",
      "Epoch: 2600 cost= 185728.70312500 W= 1552.5732 b= -381.8790\n",
      "Epoch: 2800 cost= 185728.64062500 W= 1552.5890 b= -382.0995\n",
      "Epoch: 3000 cost= 185728.56250000 W= 1552.5981 b= -382.2303\n",
      "Epoch: 3200 cost= 185728.79687500 W= 1552.6035 b= -382.3077\n",
      "Epoch: 3400 cost= 185728.62500000 W= 1552.6068 b= -382.3535\n",
      "Epoch: 3600 cost= 185728.54687500 W= 1552.6086 b= -382.3807\n",
      "Epoch: 3800 cost= 185728.64062500 W= 1552.6097 b= -382.3965\n",
      "Epoch: 4000 cost= 185728.60937500 W= 1552.6105 b= -382.4060\n",
      "Epoch: 4200 cost= 185728.73437500 W= 1552.6108 b= -382.4121\n",
      "Epoch: 4400 cost= 185728.65625000 W= 1552.6112 b= -382.4156\n",
      "Epoch: 4600 cost= 185728.54687500 W= 1552.6112 b= -382.4165\n",
      "Epoch: 4800 cost= 185728.54687500 W= 1552.6112 b= -382.4165\n",
      "=========================================================\n",
      "Optimised: cost= 185728.546875000 W= 1552.6112 b= -382.4165\n"
     ]
    },
    {
     "data": {
      "image/png": "[encoded data removed]",
      "text/plain": [
       "<Figure size 576x396 with 1 Axes>"
      ]
     },
     "metadata": {
      "tags": []
     },
     "output_type": "display_data"
    },
    {
     "name": "stdout",
     "output_type": "stream",
     "text": [
      "Testing cost= 141636.1\n",
      "Absolute mean square loss difference: 44092.453\n"
     ]
    },
    {
     "data": {
      "image/png": "[encoded data removed]",
      "text/plain": [
       "<Figure size 576x396 with 1 Axes>"
      ]
     },
     "metadata": {
      "tags": []
     },
     "output_type": "display_data"
    }
   ],
   "source": [
    "import numpy\n",
    "import matplotlib.pyplot as plt\n",
    "\n",
    "# An epoch is one iteration over the entire input data\n",
    "no_of_epochs = 5000\n",
    "# How often you want to display training info.\n",
    "display_interval = 200\n",
    "\n",
    "# training data\n",
    "x_training = numpy.asarray([1,2,5,8,9,12,14,16,18,20])\n",
    "y_training = numpy.asarray([1500,3500,7200,11000,12500,18500,22000,24500,28000,30500])\n",
    "\n",
    "# Set variables for the model\n",
    "W = tf.Variable(numpy.random.randn(), name=\"Weight\")\n",
    "b = tf.Variable(numpy.random.randn(), name=\"bias\")\n",
    "\n",
    "# Placeholders for the model\n",
    "X = tf.placeholder(tf.float32)\n",
    "Y = tf.placeholder(tf.float32)\n",
    "\n",
    "# Hypothesis = W * X + b (Linear Model)\n",
    "H = tf.add(tf.multiply(W, X), b)\n",
    "\n",
    "# Cost for calculating the model performance \n",
    "cost = tf.reduce_sum(tf.pow(H-Y, 2))/(2*x_training.shape[0])\n",
    "\n",
    "# Gradient descent optimizer with learning rate 0.01\n",
    "optimizer = tf.train.GradientDescentOptimizer(learning_rate=0.01)\n",
    "\n",
    "# Target (training model) to be executed\n",
    "train_model = optimizer.minimize(cost)\n",
    "\n",
    "# Initialize the variables (i.e. assign their default value)\n",
    "init = tf.global_variables_initializer()\n",
    "\n",
    "with tf.Session() as sess:\n",
    "  \n",
    "  sess.run(init)\n",
    "  \n",
    "  # Every epoch, the model will be modified by the given learning rate\n",
    "  for epoch in range(no_of_epochs):\n",
    "    sess.run(train_model, feed_dict={X:x_training, Y:y_training})    \n",
    "    # every display_interval loop, the training information will be displayed\n",
    "    if epoch % display_interval == 0 :\n",
    "      # calculate the cost of the current model\n",
    "      c = sess.run(cost, feed_dict={X:x_training, Y:y_training})            \n",
    "      print(\"Epoch:\", '%04d' % (epoch), \"cost=\", \"{:.8f}\".format(c), \\\n",
    "                \"W=\", \"{:.4f}\".format(sess.run(W)), \"b=\",  \"{:.4f}\".format(sess.run(b)))\n",
    "\n",
    "  print(\"=========================================================\")\n",
    "  training_cost = sess.run(cost, feed_dict={X:x_training, Y:y_training})\n",
    "  print(\"Optimised:\", \"cost=\", \"{:.9f}\".format(training_cost), \\\n",
    "                \"W=\", sess.run(W), \"b=\", sess.run(b))\n",
    "      \n",
    "  # Plot training data on the graph\n",
    "  plt.plot(x_training, y_training, 'ro', label='Training data')\n",
    "  plt.plot(x_training, sess.run(W) * x_training + sess.run(b), label='Linear')\n",
    "  plt.legend()\n",
    "  plt.show()\n",
    "\n",
    "  x_test = numpy.asarray([3,7,13,15,19])\n",
    "  y_test = numpy.asarray([4400,10000,19500,23500,29000])\n",
    "  \n",
    "  # Calculate testing cost\n",
    "  testing_cost = sess.run(\n",
    "      tf.reduce_mean(tf.square(H - Y)),\n",
    "      feed_dict={X: x_test, Y: y_test}) \n",
    "  print(\"Testing cost=\", testing_cost)\n",
    "  print(\"Absolute mean square loss difference:\", abs(\n",
    "        training_cost - testing_cost))\n",
    "    \n",
    "  # Plot testing data on the graph\n",
    "  plt.plot(x_test, y_test, 'bo', label='Testing data')\n",
    "  plt.plot(x_test, sess.run(W) * x_test + sess.run(b), label='Linear')\n",
    "  plt.legend()\n",
    "  plt.show()"
   ]
  },
  {
   "cell_type": "markdown",
   "metadata": {
    "colab_type": "text",
    "id": "DzDFV8OrQ1w0"
   },
   "source": [
    "More info:\n",
    "[GradientDescentOptimizer](https://www.tensorflow.org/api_docs/python/tf/train/GradientDescentOptimizer), "
   ]
  },
  {
   "cell_type": "markdown",
   "metadata": {
    "colab_type": "text",
    "id": "7g3eNemEOklg"
   },
   "source": [
    "# NLTK Library and WordNet"
   ]
  },
  {
   "cell_type": "markdown",
   "metadata": {
    "colab_type": "text",
    "id": "D8btJKEBxSS1"
   },
   "source": [
    "WordNet® is a large lexical database of English. Nouns, verbs, adjectives and adverbs are grouped into sets of cognitive synonyms (synsets), each expressing a distinct concept."
   ]
  },
  {
   "cell_type": "markdown",
   "metadata": {
    "colab_type": "text",
    "id": "ofWRw7omOeWf"
   },
   "source": [
    "In Python, NLTK library includes English WordNet.\n",
    "\n",
    "**To use wordnet, you need to download the wordnet data via NLTK library**\n",
    "\n",
    " * **[NLTK](https://www.nltk.org/)** is a **N**atural **L**anguage **T**ool**k**iit for python. "
   ]
  },
  {
   "cell_type": "code",
   "execution_count": 0,
   "metadata": {
    "colab": {},
    "colab_type": "code",
    "id": "iVqxuaIpOIOl"
   },
   "outputs": [],
   "source": [
    "import nltk"
   ]
  },
  {
   "cell_type": "markdown",
   "metadata": {
    "colab_type": "text",
    "id": "I2cusD7IovCi"
   },
   "source": [
    "## WordNet"
   ]
  },
  {
   "cell_type": "code",
   "execution_count": 4,
   "metadata": {
    "colab": {
     "base_uri": "https://localhost:8080/",
     "height": 68
    },
    "colab_type": "code",
    "id": "OuDwzN6OosjB",
    "outputId": "d42e1b9d-d752-405e-a9b6-d097eb3dbb4a"
   },
   "outputs": [
    {
     "name": "stdout",
     "output_type": "stream",
     "text": [
      "[nltk_data] Downloading package wordnet to /root/nltk_data...\n",
      "[nltk_data]   Unzipping corpora/wordnet.zip.\n"
     ]
    },
    {
     "data": {
      "text/plain": [
       "True"
      ]
     },
     "execution_count": 4,
     "metadata": {
      "tags": []
     },
     "output_type": "execute_result"
    }
   ],
   "source": [
    "nltk.download('wordnet')"
   ]
  },
  {
   "cell_type": "code",
   "execution_count": 0,
   "metadata": {
    "colab": {},
    "colab_type": "code",
    "id": "1JKvb0XKNzxw"
   },
   "outputs": [],
   "source": [
    "from nltk.corpus import wordnet as wn"
   ]
  },
  {
   "cell_type": "markdown",
   "metadata": {
    "colab_type": "text",
    "id": "ucVb1XeAnnFo"
   },
   "source": [
    "Let's get a set of synonyms that share a common meaning."
   ]
  },
  {
   "cell_type": "code",
   "execution_count": 0,
   "metadata": {
    "colab": {},
    "colab_type": "code",
    "id": "ecoLLQPlxlOc"
   },
   "outputs": [],
   "source": [
    "dog = wn.synset('dog.n.01')\n",
    "person = wn.synset('person.n.01')\n",
    "cat = wn.synset('cat.n.01')\n",
    "computer = wn.synset('computer.n.01')"
   ]
  },
  {
   "cell_type": "markdown",
   "metadata": {
    "colab_type": "text",
    "id": "P4rd7JPrr4sc"
   },
   "source": [
    "### path_similarity()\n",
    "path_similarity() returns a score denoting how similar two word senses are, based on the shortest path that connects the senses in the is-a (hypernym/hypnoym) taxonomy. The score is in the range 0 to 1."
   ]
  },
  {
   "cell_type": "code",
   "execution_count": 7,
   "metadata": {
    "colab": {
     "base_uri": "https://localhost:8080/",
     "height": 85
    },
    "colab_type": "code",
    "id": "aiTFSsHqsREt",
    "outputId": "8a57b07d-43b8-4c47-a1b8-d813ff16046f"
   },
   "outputs": [
    {
     "name": "stdout",
     "output_type": "stream",
     "text": [
      "dog<->cat :  0.2\n",
      "person<->cat :  0.1\n",
      "person<->dog :  0.2\n",
      "person<->computer :  0.1111111111111111\n"
     ]
    }
   ],
   "source": [
    "print(\"dog<->cat : \", wn.path_similarity(dog,cat))\n",
    "print(\"person<->cat : \", wn.path_similarity(person,cat))\n",
    "print(\"person<->dog : \", wn.path_similarity(person,dog))\n",
    "print(\"person<->computer : \", wn.path_similarity(person,computer))"
   ]
  },
  {
   "cell_type": "markdown",
   "metadata": {
    "colab_type": "text",
    "id": "rJfYbAtPrMNS"
   },
   "source": [
    "### Wu-Palmer Similarity (wup_similarity() )\n",
    "wup_similarity() returns a score denoting how similar two word senses are, based on the depth of the two senses in the taxonomy and that of their Least Common Subsumer (most specific ancestor node)."
   ]
  },
  {
   "cell_type": "code",
   "execution_count": 8,
   "metadata": {
    "colab": {
     "base_uri": "https://localhost:8080/",
     "height": 85
    },
    "colab_type": "code",
    "id": "Jno6d9Mdrbu0",
    "outputId": "352463cf-4a0e-43f0-91d7-eecf615a63b3"
   },
   "outputs": [
    {
     "name": "stdout",
     "output_type": "stream",
     "text": [
      "dog<->cat :  0.8571428571428571\n",
      "person<->cat :  0.5714285714285714\n",
      "person<->dog :  0.75\n",
      "person<->computer :  0.5\n"
     ]
    }
   ],
   "source": [
    "print(\"dog<->cat : \", wn.wup_similarity(dog,cat))\n",
    "print(\"person<->cat : \", wn.wup_similarity(person,cat))\n",
    "print(\"person<->dog : \", wn.wup_similarity(person,dog))\n",
    "print(\"person<->computer : \", wn.wup_similarity(person,computer))"
   ]
  },
  {
   "cell_type": "markdown",
   "metadata": {
    "colab_type": "text",
    "id": "RVtVC7LnqS9T"
   },
   "source": [
    "# Exercise\n",
    "\n",
    "Write a program to find the most and the least similar words by nesting its synonyms or antonyms. To compare words, you can use two similarity measurement functions (path_similarity() and wup_similarity()). Please give a nesting limit so that your program cannot nest more than 6 times (as argument and should have default value). \n",
    "\n",
    "Useful information: [NLTK-WordNet](http://www.nltk.org/howto/wordnet.html#synsets)\n",
    "\n",
    "Note. Some words do not have antonyms (dog, cat, person, computer, etc.)\n",
    "\n"
   ]
  },
  {
   "cell_type": "code",
   "execution_count": 0,
   "metadata": {
    "colab": {},
    "colab_type": "code",
    "id": "v2jM0mZT7Kbf"
   },
   "outputs": [],
   "source": [
    "# You should submit \"ipynb\" file (You can download it from \"File\" > \"Download .ipynb\") to Canvas\n",
    "# You can write extra functions\n",
    "\n",
    "def find_similar_words(word, max_nesting=6):\n",
    "  similar_words = {\n",
    "      \"least\":\"\",\n",
    "      \"most\":\"\"\n",
    "  }\n",
    "  \n",
    "  # Put your code here \n",
    "\n",
    "  synonyms=[]\n",
    "  antonyms=[]\n",
    "  sim=[]\n",
    "  simdic={}\n",
    "  synset=wn.synsets(word)\n",
    "  for syn in synset:\n",
    "    for l in syn.lemmas():\n",
    "      synonyms.append(l.name())\n",
    "      if l.antonyms():\n",
    "        antonyms.append(l.antonyms()[0].name())\n",
    "  for i in set(synonyms):\n",
    "    wSyn=wn.synsets(i)\n",
    "    if wSyn and synset:\n",
    "      s = wSyn[0].wup_similarity(synset[0])\n",
    "      sim.append((i,s))\n",
    "  simdic.update(sim)\n",
    "  print(simdic)\n",
    "  filtered = {k: v for k, v in simdic.items() if v is not None}\n",
    "  simdic.clear()\n",
    "  simdic.update(filtered)\n",
    "      \n",
    "    \n",
    "  mst=max(simdic, key=filtered.get)\n",
    "  lst=min(simdic,key=filtered.get)\n",
    "  similar_words.update(least =lst,most=mst)\n",
    "  \n",
    "\n",
    "  return similar_words\n",
    "\n",
    "\n"
   ]
  },
  {
   "cell_type": "code",
   "execution_count": 0,
   "metadata": {
    "colab": {},
    "colab_type": "code",
    "id": "yag1S0uVp4BQ"
   },
   "outputs": [],
   "source": []
  },
  {
   "cell_type": "markdown",
   "metadata": {
    "colab_type": "text",
    "id": "30kFdMAbBnWx"
   },
   "source": [
    "# Extension\n",
    "Test your program with 10 different words (selects randomly by yourself) and find the reasonable threshold limit for the number of nestings (by changing value for max_nesting argument)"
   ]
  },
  {
   "cell_type": "code",
   "execution_count": 95,
   "metadata": {
    "colab": {
     "base_uri": "https://localhost:8080/",
     "height": 377
    },
    "colab_type": "code",
    "id": "iq6yaGo8CI_7",
    "outputId": "e32ff817-34e5-4b51-b430-956255908e90"
   },
   "outputs": [
    {
     "name": "stdout",
     "output_type": "stream",
     "text": [
      "{'someone': 0.8571428571428571, 'soul': 0.6, 'somebody': 0.8571428571428571, 'person': 0.8571428571428571, 'individual': 0.8571428571428571, 'mortal': 0.8571428571428571}\n",
      "{'least': 'soul', 'most': 'someone'}\n",
      "{'elevator_car': 0.47619047619047616, 'cable_car': 0.47619047619047616, 'railroad_car': 0.7272727272727273, 'car': 1.0, 'machine': 0.631578947368421, 'motorcar': 1.0, 'gondola': 0.6666666666666666, 'railcar': 0.7272727272727273, 'railway_car': 0.7272727272727273, 'automobile': 1.0, 'auto': 1.0}\n",
      "{'least': 'elevator_car', 'most': 'car'}\n",
      "{'quat': 0.19047619047619047, 'chuck': 0.19047619047619047, 'African_tea': 0.19047619047619047, 'purge': 0.08333333333333333, \"cat-o'-nine-tails\": 0.3333333333333333, 'disgorge': 0.1111111111111111, 'Caterpillar': 0.6086956521739131, 'cast': 0.1, 'computerized_axial_tomography': 0.08, 'computerized_tomography': 0.08, 'vomit': 0.18181818181818182, 'retch': 0.07692307692307693, 'throw_up': 0.10526315789473684, 'regorge': 0.10526315789473684, 'sick': 0.10526315789473684, 'computed_tomography': 0.08, 'vomit_up': 0.10526315789473684, 'barf': 0.18181818181818182, 'bozo': 0.5, 'Arabian_tea': 0.19047619047619047, 'CAT': 1.0, 'hombre': 0.5, 'puke': 0.5, 'regurgitate': 0.1, 'spew': 0.10526315789473684, 'CT': 0.25, 'big_cat': 0.9285714285714286, 'guy': 0.5, 'honk': 0.09090909090909091, 'kat': 0.19047619047619047, 'be_sick': 0.10526315789473684, 'spue': 0.10526315789473684, 'khat': 0.19047619047619047, 'cat': 1.0, 'computed_axial_tomography': 0.08, 'qat': 0.19047619047619047, 'true_cat': 1.0, 'upchuck': 0.10526315789473684}\n",
      "{'least': 'retch', 'most': 'CAT'}\n",
      "{'hound': 0.8666666666666667, 'go_after': 0.14285714285714285, 'frankfurter': 0.23529411764705882, 'give_chase': 0.14285714285714285, 'wienerwurst': 0.23529411764705882, 'click': 0.125, 'weenie': 0.23529411764705882, 'trail': 0.375, 'andiron': 0.4444444444444444, 'hot_dog': 0.5714285714285714, 'track': 0.4, 'chase': 0.1111111111111111, 'firedog': 0.4444444444444444, 'frank': 0.631578947368421, 'tail': 0.25, 'tag': 0.11764705882352941, 'bounder': 0.631578947368421, 'wiener': 0.631578947368421, 'blackguard': 0.631578947368421, 'pawl': 0.42105263157894735, 'domestic_dog': 0.9285714285714286, 'cad': 0.631578947368421, 'frump': 0.6, 'hotdog': 0.5714285714285714, 'heel': 0.3, 'detent': 0.42105263157894735, 'chase_after': 0.14285714285714285, 'Canis_familiaris': 0.9285714285714286, 'dog': 0.9285714285714286, 'dog-iron': 0.4444444444444444}\n",
      "{'least': 'chase', 'most': 'domestic_dog'}\n",
      "{'hotel': 1.0}\n",
      "{'least': 'hotel', 'most': 'hotel'}\n",
      "{'homo': 0.7058823529411765, 'man': 1.0, 'humanity': 0.16666666666666666, 'serviceman': 0.631578947368421, 'human_beings': 0.5217391304347826, 'human_race': 0.5217391304347826, 'adult_male': 1.0, 'military_man': 0.631578947368421, 'valet_de_chambre': 0.6, 'piece': 0.46153846153846156, 'world': 0.5333333333333333, 'Man': 1.0, 'human_being': 0.5217391304347826, 'humankind': 0.5217391304347826, 'gentleman': 0.9473684210526315, 'mankind': 0.5217391304347826, 'valet': 0.6, 'humans': 0.5217391304347826, \"gentleman's_gentleman\": 0.6, 'military_personnel': 0.15384615384615385, 'Isle_of_Man': 0.42857142857142855, 'human': 0.5217391304347826}\n",
      "{'least': 'military_personnel', 'most': 'man'}\n",
      "{'cleaning_woman': 0.5454545454545454, 'cleaning_lady': 0.5454545454545454, 'char': 0.3076923076923077, 'adult_female': 1.0, 'fair_sex': 0.16666666666666666, 'womanhood': 0.15384615384615385, 'charwoman': 0.5454545454545454, 'woman': 1.0}\n",
      "{'least': 'womanhood', 'most': 'adult_female'}\n",
      "{'ocean': 0.8, 'sea': 1.0}\n",
      "{'least': 'ocean', 'most': 'sea'}\n",
      "{'love_life': 0.14285714285714285, 'bonk': 0.15384615384615385, 'make_out': 0.2, 'sleep_with': 0.15384615384615385, 'do_it': 0.15384615384615385, 'sleep_together': 0.15384615384615385, 'have_intercourse': 0.15384615384615385, 'jazz': 0.26666666666666666, 'roll_in_the_hay': 0.13333333333333333, 'be_intimate': 0.15384615384615385, 'have_it_off': 0.15384615384615385, 'get_it_on': 0.15384615384615385, 'bed': 0.11764705882352941, 'lovemaking': 0.14285714285714285, 'love': 1.0, 'bang': 0.25, 'make_love': 0.15384615384615385, 'fuck': 0.13333333333333333, 'have_sex': 0.15384615384615385, 'hump': 0.4, 'have_it_away': 0.15384615384615385, 'passion': 0.7692307692307693, 'dearest': 0.15384615384615385, 'get_laid': 0.15384615384615385, 'dear': 0.15384615384615385, 'screw': 0.13333333333333333, 'erotic_love': 0.6666666666666666, 'enjoy': 0.2, 'have_a_go_at_it': 0.15384615384615385, 'eff': 0.15384615384615385, 'making_love': 0.14285714285714285, 'beloved': 0.15384615384615385, 'sexual_love': 0.6666666666666666, 'know': 0.26666666666666666, 'lie_with': 0.15384615384615385, 'honey': 0.11764705882352941}\n",
      "{'least': 'bed', 'most': 'love'}\n",
      "{'home_plate': 0.3, 'home_base': 0.3, 'internal': None, 'plate': 0.3, 'domicile': 0.8888888888888888, 'interior': 0.5333333333333333, 'dwelling': 0.35294117647058826, 'family': 0.125, 'dwelling_house': 0.35294117647058826, 'household': 0.125, 'abode': 0.9411764705882353, 'menage': 0.125, 'habitation': 0.4444444444444444, 'house': 0.35294117647058826, 'rest_home': 0.3333333333333333, 'nursing_home': 0.3333333333333333, 'national': 0.375, 'home': 1.0, 'base': 0.35294117647058826, 'place': 0.6666666666666666}\n",
      "{'least': 'family', 'most': 'home'}\n"
     ]
    }
   ],
   "source": [
    "# This is an extension task. You do not need to submit this task for your assessment.\n",
    "\n",
    "words=['person','car','cat','dog','hotel','man','women','sea','love','home']\n",
    "for i in words:\n",
    "  print (find_similar_words(i))\n",
    "\n",
    "\n",
    "\n",
    "\n"
   ]
  }
 ],
 "metadata": {
  "accelerator": "GPU",
  "colab": {
   "collapsed_sections": [],
   "name": "460087892Lab01zixu9636.ipynb",
   "provenance": [],
   "toc_visible": true,
   "version": "0.3.2"
  },
  "kernelspec": {
   "display_name": "Python 3",
   "language": "python",
   "name": "python3"
  },
  "language_info": {
   "codemirror_mode": {
    "name": "ipython",
    "version": 3
   },
   "file_extension": ".py",
   "mimetype": "text/x-python",
   "name": "python",
   "nbconvert_exporter": "python",
   "pygments_lexer": "ipython3",
   "version": "3.6.4"
  }
 },
 "nbformat": 4,
 "nbformat_minor": 1
}
